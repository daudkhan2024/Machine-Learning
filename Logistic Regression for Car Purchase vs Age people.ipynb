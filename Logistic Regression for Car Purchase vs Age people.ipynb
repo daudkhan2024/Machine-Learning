{
 "cells": [
  {
   "cell_type": "markdown",
   "id": "f792123b",
   "metadata": {},
   "source": [
    "### Importing Libraries"
   ]
  },
  {
   "cell_type": "code",
   "execution_count": 1,
   "id": "bebc191c",
   "metadata": {},
   "outputs": [],
   "source": [
    "import pandas as pd"
   ]
  },
  {
   "cell_type": "code",
   "execution_count": 2,
   "id": "9abc2f40",
   "metadata": {},
   "outputs": [],
   "source": [
    "from matplotlib import pyplot as plt"
   ]
  },
  {
   "cell_type": "code",
   "execution_count": 4,
   "id": "2e7e8e35",
   "metadata": {},
   "outputs": [],
   "source": [
    "%matplotlib inline"
   ]
  },
  {
   "cell_type": "markdown",
   "id": "be471cbb",
   "metadata": {},
   "source": [
    "### Loading Dataset"
   ]
  },
  {
   "cell_type": "code",
   "execution_count": 5,
   "id": "d8b4a727",
   "metadata": {},
   "outputs": [],
   "source": [
    "df = pd.read_csv(\"../../datasets/car_data.csv\")"
   ]
  },
  {
   "cell_type": "code",
   "execution_count": 6,
   "id": "3f6747ac",
   "metadata": {},
   "outputs": [
    {
     "data": {
      "text/html": [
       "<div>\n",
       "<style scoped>\n",
       "    .dataframe tbody tr th:only-of-type {\n",
       "        vertical-align: middle;\n",
       "    }\n",
       "\n",
       "    .dataframe tbody tr th {\n",
       "        vertical-align: top;\n",
       "    }\n",
       "\n",
       "    .dataframe thead th {\n",
       "        text-align: right;\n",
       "    }\n",
       "</style>\n",
       "<table border=\"1\" class=\"dataframe\">\n",
       "  <thead>\n",
       "    <tr style=\"text-align: right;\">\n",
       "      <th></th>\n",
       "      <th>User ID</th>\n",
       "      <th>Gender</th>\n",
       "      <th>Age</th>\n",
       "      <th>AnnualSalary</th>\n",
       "      <th>Purchased</th>\n",
       "    </tr>\n",
       "  </thead>\n",
       "  <tbody>\n",
       "    <tr>\n",
       "      <th>0</th>\n",
       "      <td>385</td>\n",
       "      <td>Male</td>\n",
       "      <td>35</td>\n",
       "      <td>20000</td>\n",
       "      <td>0</td>\n",
       "    </tr>\n",
       "    <tr>\n",
       "      <th>1</th>\n",
       "      <td>681</td>\n",
       "      <td>Male</td>\n",
       "      <td>40</td>\n",
       "      <td>43500</td>\n",
       "      <td>0</td>\n",
       "    </tr>\n",
       "    <tr>\n",
       "      <th>2</th>\n",
       "      <td>353</td>\n",
       "      <td>Male</td>\n",
       "      <td>49</td>\n",
       "      <td>74000</td>\n",
       "      <td>0</td>\n",
       "    </tr>\n",
       "    <tr>\n",
       "      <th>3</th>\n",
       "      <td>895</td>\n",
       "      <td>Male</td>\n",
       "      <td>40</td>\n",
       "      <td>107500</td>\n",
       "      <td>1</td>\n",
       "    </tr>\n",
       "    <tr>\n",
       "      <th>4</th>\n",
       "      <td>661</td>\n",
       "      <td>Male</td>\n",
       "      <td>25</td>\n",
       "      <td>79000</td>\n",
       "      <td>0</td>\n",
       "    </tr>\n",
       "  </tbody>\n",
       "</table>\n",
       "</div>"
      ],
      "text/plain": [
       "   User ID Gender  Age  AnnualSalary  Purchased\n",
       "0      385   Male   35         20000          0\n",
       "1      681   Male   40         43500          0\n",
       "2      353   Male   49         74000          0\n",
       "3      895   Male   40        107500          1\n",
       "4      661   Male   25         79000          0"
      ]
     },
     "execution_count": 6,
     "metadata": {},
     "output_type": "execute_result"
    }
   ],
   "source": [
    "df.head()"
   ]
  },
  {
   "cell_type": "code",
   "execution_count": 19,
   "id": "3e231a83",
   "metadata": {
    "scrolled": true
   },
   "outputs": [
    {
     "data": {
      "text/plain": [
       "<matplotlib.collections.PathCollection at 0x7fcdd7150cd0>"
      ]
     },
     "execution_count": 19,
     "metadata": {},
     "output_type": "execute_result"
    },
    {
     "data": {
      "image/png": "[encoded data removed]",
      "text/plain": [
       "<Figure size 432x288 with 1 Axes>"
      ]
     },
     "metadata": {
      "needs_background": "light"
     },
     "output_type": "display_data"
    }
   ],
   "source": [
    "plt.scatter(df.Age,df.Purchased,marker='+',color='blue')"
   ]
  },
  {
   "cell_type": "markdown",
   "id": "cac480f6",
   "metadata": {},
   "source": [
    "### Train Test Split"
   ]
  },
  {
   "cell_type": "code",
   "execution_count": 20,
   "id": "c8975637",
   "metadata": {},
   "outputs": [],
   "source": [
    "from sklearn.model_selection import train_test_split"
   ]
  },
  {
   "cell_type": "code",
   "execution_count": 69,
   "id": "baf3f1ac",
   "metadata": {},
   "outputs": [],
   "source": [
    "#to see age vs purchase weather this age person will purchase or not we will pick these two features\n",
    "x_train,x_test,y_train,y_test = train_test_split(df[['Age']],df.Purchased,test_size=0.25)"
   ]
  },
  {
   "cell_type": "code",
   "execution_count": 70,
   "id": "006dfdc5",
   "metadata": {},
   "outputs": [
    {
     "data": {
      "text/html": [
       "<div>\n",
       "<style scoped>\n",
       "    .dataframe tbody tr th:only-of-type {\n",
       "        vertical-align: middle;\n",
       "    }\n",
       "\n",
       "    .dataframe tbody tr th {\n",
       "        vertical-align: top;\n",
       "    }\n",
       "\n",
       "    .dataframe thead th {\n",
       "        text-align: right;\n",
       "    }\n",
       "</style>\n",
       "<table border=\"1\" class=\"dataframe\">\n",
       "  <thead>\n",
       "    <tr style=\"text-align: right;\">\n",
       "      <th></th>\n",
       "      <th>Age</th>\n",
       "    </tr>\n",
       "  </thead>\n",
       "  <tbody>\n",
       "    <tr>\n",
       "      <th>776</th>\n",
       "      <td>36</td>\n",
       "    </tr>\n",
       "    <tr>\n",
       "      <th>562</th>\n",
       "      <td>44</td>\n",
       "    </tr>\n",
       "    <tr>\n",
       "      <th>98</th>\n",
       "      <td>30</td>\n",
       "    </tr>\n",
       "    <tr>\n",
       "      <th>184</th>\n",
       "      <td>56</td>\n",
       "    </tr>\n",
       "    <tr>\n",
       "      <th>455</th>\n",
       "      <td>49</td>\n",
       "    </tr>\n",
       "    <tr>\n",
       "      <th>...</th>\n",
       "      <td>...</td>\n",
       "    </tr>\n",
       "    <tr>\n",
       "      <th>412</th>\n",
       "      <td>56</td>\n",
       "    </tr>\n",
       "    <tr>\n",
       "      <th>278</th>\n",
       "      <td>42</td>\n",
       "    </tr>\n",
       "    <tr>\n",
       "      <th>644</th>\n",
       "      <td>42</td>\n",
       "    </tr>\n",
       "    <tr>\n",
       "      <th>621</th>\n",
       "      <td>49</td>\n",
       "    </tr>\n",
       "    <tr>\n",
       "      <th>262</th>\n",
       "      <td>42</td>\n",
       "    </tr>\n",
       "  </tbody>\n",
       "</table>\n",
       "<p>750 rows × 1 columns</p>\n",
       "</div>"
      ],
      "text/plain": [
       "     Age\n",
       "776   36\n",
       "562   44\n",
       "98    30\n",
       "184   56\n",
       "455   49\n",
       "..   ...\n",
       "412   56\n",
       "278   42\n",
       "644   42\n",
       "621   49\n",
       "262   42\n",
       "\n",
       "[750 rows x 1 columns]"
      ]
     },
     "execution_count": 70,
     "metadata": {},
     "output_type": "execute_result"
    }
   ],
   "source": [
    "x_train"
   ]
  },
  {
   "cell_type": "code",
   "execution_count": 71,
   "id": "2951eaa7",
   "metadata": {},
   "outputs": [
    {
     "data": {
      "text/html": [
       "<div>\n",
       "<style scoped>\n",
       "    .dataframe tbody tr th:only-of-type {\n",
       "        vertical-align: middle;\n",
       "    }\n",
       "\n",
       "    .dataframe tbody tr th {\n",
       "        vertical-align: top;\n",
       "    }\n",
       "\n",
       "    .dataframe thead th {\n",
       "        text-align: right;\n",
       "    }\n",
       "</style>\n",
       "<table border=\"1\" class=\"dataframe\">\n",
       "  <thead>\n",
       "    <tr style=\"text-align: right;\">\n",
       "      <th></th>\n",
       "      <th>Age</th>\n",
       "    </tr>\n",
       "  </thead>\n",
       "  <tbody>\n",
       "    <tr>\n",
       "      <th>978</th>\n",
       "      <td>60</td>\n",
       "    </tr>\n",
       "    <tr>\n",
       "      <th>41</th>\n",
       "      <td>59</td>\n",
       "    </tr>\n",
       "    <tr>\n",
       "      <th>538</th>\n",
       "      <td>42</td>\n",
       "    </tr>\n",
       "    <tr>\n",
       "      <th>240</th>\n",
       "      <td>42</td>\n",
       "    </tr>\n",
       "    <tr>\n",
       "      <th>592</th>\n",
       "      <td>21</td>\n",
       "    </tr>\n",
       "    <tr>\n",
       "      <th>...</th>\n",
       "      <td>...</td>\n",
       "    </tr>\n",
       "    <tr>\n",
       "      <th>563</th>\n",
       "      <td>37</td>\n",
       "    </tr>\n",
       "    <tr>\n",
       "      <th>112</th>\n",
       "      <td>31</td>\n",
       "    </tr>\n",
       "    <tr>\n",
       "      <th>152</th>\n",
       "      <td>43</td>\n",
       "    </tr>\n",
       "    <tr>\n",
       "      <th>471</th>\n",
       "      <td>46</td>\n",
       "    </tr>\n",
       "    <tr>\n",
       "      <th>117</th>\n",
       "      <td>33</td>\n",
       "    </tr>\n",
       "  </tbody>\n",
       "</table>\n",
       "<p>250 rows × 1 columns</p>\n",
       "</div>"
      ],
      "text/plain": [
       "     Age\n",
       "978   60\n",
       "41    59\n",
       "538   42\n",
       "240   42\n",
       "592   21\n",
       "..   ...\n",
       "563   37\n",
       "112   31\n",
       "152   43\n",
       "471   46\n",
       "117   33\n",
       "\n",
       "[250 rows x 1 columns]"
      ]
     },
     "execution_count": 71,
     "metadata": {},
     "output_type": "execute_result"
    }
   ],
   "source": [
    "x_test"
   ]
  },
  {
   "cell_type": "code",
   "execution_count": 72,
   "id": "4d78eb08",
   "metadata": {},
   "outputs": [
    {
     "data": {
      "text/html": [
       "<div>\n",
       "<style scoped>\n",
       "    .dataframe tbody tr th:only-of-type {\n",
       "        vertical-align: middle;\n",
       "    }\n",
       "\n",
       "    .dataframe tbody tr th {\n",
       "        vertical-align: top;\n",
       "    }\n",
       "\n",
       "    .dataframe thead th {\n",
       "        text-align: right;\n",
       "    }\n",
       "</style>\n",
       "<table border=\"1\" class=\"dataframe\">\n",
       "  <thead>\n",
       "    <tr style=\"text-align: right;\">\n",
       "      <th></th>\n",
       "      <th>Age</th>\n",
       "    </tr>\n",
       "  </thead>\n",
       "  <tbody>\n",
       "    <tr>\n",
       "      <th>776</th>\n",
       "      <td>False</td>\n",
       "    </tr>\n",
       "    <tr>\n",
       "      <th>562</th>\n",
       "      <td>False</td>\n",
       "    </tr>\n",
       "    <tr>\n",
       "      <th>98</th>\n",
       "      <td>False</td>\n",
       "    </tr>\n",
       "    <tr>\n",
       "      <th>184</th>\n",
       "      <td>False</td>\n",
       "    </tr>\n",
       "    <tr>\n",
       "      <th>455</th>\n",
       "      <td>False</td>\n",
       "    </tr>\n",
       "    <tr>\n",
       "      <th>...</th>\n",
       "      <td>...</td>\n",
       "    </tr>\n",
       "    <tr>\n",
       "      <th>412</th>\n",
       "      <td>False</td>\n",
       "    </tr>\n",
       "    <tr>\n",
       "      <th>278</th>\n",
       "      <td>False</td>\n",
       "    </tr>\n",
       "    <tr>\n",
       "      <th>644</th>\n",
       "      <td>False</td>\n",
       "    </tr>\n",
       "    <tr>\n",
       "      <th>621</th>\n",
       "      <td>False</td>\n",
       "    </tr>\n",
       "    <tr>\n",
       "      <th>262</th>\n",
       "      <td>False</td>\n",
       "    </tr>\n",
       "  </tbody>\n",
       "</table>\n",
       "<p>750 rows × 1 columns</p>\n",
       "</div>"
      ],
      "text/plain": [
       "       Age\n",
       "776  False\n",
       "562  False\n",
       "98   False\n",
       "184  False\n",
       "455  False\n",
       "..     ...\n",
       "412  False\n",
       "278  False\n",
       "644  False\n",
       "621  False\n",
       "262  False\n",
       "\n",
       "[750 rows x 1 columns]"
      ]
     },
     "execution_count": 72,
     "metadata": {},
     "output_type": "execute_result"
    }
   ],
   "source": [
    "x_train.isnull()"
   ]
  },
  {
   "cell_type": "code",
   "execution_count": 73,
   "id": "eacea82b",
   "metadata": {},
   "outputs": [],
   "source": [
    "from sklearn.linear_model import LogisticRegression"
   ]
  },
  {
   "cell_type": "code",
   "execution_count": 74,
   "id": "bd9d0522",
   "metadata": {},
   "outputs": [],
   "source": [
    "model = LogisticRegression()"
   ]
  },
  {
   "cell_type": "code",
   "execution_count": 75,
   "id": "d1e282d0",
   "metadata": {},
   "outputs": [
    {
     "data": {
      "text/html": [
       "<style>#sk-container-id-2 {color: black;background-color: white;}#sk-container-id-2 pre{padding: 0;}#sk-container-id-2 div.sk-toggleable {background-color: white;}#sk-container-id-2 label.sk-toggleable__label {cursor: pointer;display: block;width: 100%;margin-bottom: 0;padding: 0.3em;box-sizing: border-box;text-align: center;}#sk-container-id-2 label.sk-toggleable__label-arrow:before {content: \"▸\";float: left;margin-right: 0.25em;color: #696969;}#sk-container-id-2 label.sk-toggleable__label-arrow:hover:before {color: black;}#sk-container-id-2 div.sk-estimator:hover label.sk-toggleable__label-arrow:before {color: black;}#sk-container-id-2 div.sk-toggleable__content {max-height: 0;max-width: 0;overflow: hidden;text-align: left;background-color: #f0f8ff;}#sk-container-id-2 div.sk-toggleable__content pre {margin: 0.2em;color: black;border-radius: 0.25em;background-color: #f0f8ff;}#sk-container-id-2 input.sk-toggleable__control:checked~div.sk-toggleable__content {max-height: 200px;max-width: 100%;overflow: auto;}#sk-container-id-2 input.sk-toggleable__control:checked~label.sk-toggleable__label-arrow:before {content: \"▾\";}#sk-container-id-2 div.sk-estimator input.sk-toggleable__control:checked~label.sk-toggleable__label {background-color: #d4ebff;}#sk-container-id-2 div.sk-label input.sk-toggleable__control:checked~label.sk-toggleable__label {background-color: #d4ebff;}#sk-container-id-2 input.sk-hidden--visually {border: 0;clip: rect(1px 1px 1px 1px);clip: rect(1px, 1px, 1px, 1px);height: 1px;margin: -1px;overflow: hidden;padding: 0;position: absolute;width: 1px;}#sk-container-id-2 div.sk-estimator {font-family: monospace;background-color: #f0f8ff;border: 1px dotted black;border-radius: 0.25em;box-sizing: border-box;margin-bottom: 0.5em;}#sk-container-id-2 div.sk-estimator:hover {background-color: #d4ebff;}#sk-container-id-2 div.sk-parallel-item::after {content: \"\";width: 100%;border-bottom: 1px solid gray;flex-grow: 1;}#sk-container-id-2 div.sk-label:hover label.sk-toggleable__label {background-color: #d4ebff;}#sk-container-id-2 div.sk-serial::before {content: \"\";position: absolute;border-left: 1px solid gray;box-sizing: border-box;top: 0;bottom: 0;left: 50%;z-index: 0;}#sk-container-id-2 div.sk-serial {display: flex;flex-direction: column;align-items: center;background-color: white;padding-right: 0.2em;padding-left: 0.2em;position: relative;}#sk-container-id-2 div.sk-item {position: relative;z-index: 1;}#sk-container-id-2 div.sk-parallel {display: flex;align-items: stretch;justify-content: center;background-color: white;position: relative;}#sk-container-id-2 div.sk-item::before, #sk-container-id-2 div.sk-parallel-item::before {content: \"\";position: absolute;border-left: 1px solid gray;box-sizing: border-box;top: 0;bottom: 0;left: 50%;z-index: -1;}#sk-container-id-2 div.sk-parallel-item {display: flex;flex-direction: column;z-index: 1;position: relative;background-color: white;}#sk-container-id-2 div.sk-parallel-item:first-child::after {align-self: flex-end;width: 50%;}#sk-container-id-2 div.sk-parallel-item:last-child::after {align-self: flex-start;width: 50%;}#sk-container-id-2 div.sk-parallel-item:only-child::after {width: 0;}#sk-container-id-2 div.sk-dashed-wrapped {border: 1px dashed gray;margin: 0 0.4em 0.5em 0.4em;box-sizing: border-box;padding-bottom: 0.4em;background-color: white;}#sk-container-id-2 div.sk-label label {font-family: monospace;font-weight: bold;display: inline-block;line-height: 1.2em;}#sk-container-id-2 div.sk-label-container {text-align: center;}#sk-container-id-2 div.sk-container {/* jupyter's `normalize.less` sets `[hidden] { display: none; }` but bootstrap.min.css set `[hidden] { display: none !important; }` so we also need the `!important` here to be able to override the default hidden behavior on the sphinx rendered scikit-learn.org. See: https://github.com/scikit-learn/scikit-learn/issues/21755 */display: inline-block !important;position: relative;}#sk-container-id-2 div.sk-text-repr-fallback {display: none;}</style><div id=\"sk-container-id-2\" class=\"sk-top-container\"><div class=\"sk-text-repr-fallback\"><pre>LogisticRegression()</pre><b>In a Jupyter environment, please rerun this cell to show the HTML representation or trust the notebook. <br />On GitHub, the HTML representation is unable to render, please try loading this page with nbviewer.org.</b></div><div class=\"sk-container\" hidden><div class=\"sk-item\"><div class=\"sk-estimator sk-toggleable\"><input class=\"sk-toggleable__control sk-hidden--visually\" id=\"sk-estimator-id-2\" type=\"checkbox\" checked><label for=\"sk-estimator-id-2\" class=\"sk-toggleable__label sk-toggleable__label-arrow\">LogisticRegression</label><div class=\"sk-toggleable__content\"><pre>LogisticRegression()</pre></div></div></div></div></div>"
      ],
      "text/plain": [
       "LogisticRegression()"
      ]
     },
     "execution_count": 75,
     "metadata": {},
     "output_type": "execute_result"
    }
   ],
   "source": [
    "model.fit(x_train,y_train)"
   ]
  },
  {
   "cell_type": "code",
   "execution_count": 76,
   "id": "62299953",
   "metadata": {},
   "outputs": [
    {
     "data": {
      "text/html": [
       "<div>\n",
       "<style scoped>\n",
       "    .dataframe tbody tr th:only-of-type {\n",
       "        vertical-align: middle;\n",
       "    }\n",
       "\n",
       "    .dataframe tbody tr th {\n",
       "        vertical-align: top;\n",
       "    }\n",
       "\n",
       "    .dataframe thead th {\n",
       "        text-align: right;\n",
       "    }\n",
       "</style>\n",
       "<table border=\"1\" class=\"dataframe\">\n",
       "  <thead>\n",
       "    <tr style=\"text-align: right;\">\n",
       "      <th></th>\n",
       "      <th>Age</th>\n",
       "    </tr>\n",
       "  </thead>\n",
       "  <tbody>\n",
       "    <tr>\n",
       "      <th>978</th>\n",
       "      <td>60</td>\n",
       "    </tr>\n",
       "    <tr>\n",
       "      <th>41</th>\n",
       "      <td>59</td>\n",
       "    </tr>\n",
       "    <tr>\n",
       "      <th>538</th>\n",
       "      <td>42</td>\n",
       "    </tr>\n",
       "    <tr>\n",
       "      <th>240</th>\n",
       "      <td>42</td>\n",
       "    </tr>\n",
       "    <tr>\n",
       "      <th>592</th>\n",
       "      <td>21</td>\n",
       "    </tr>\n",
       "    <tr>\n",
       "      <th>...</th>\n",
       "      <td>...</td>\n",
       "    </tr>\n",
       "    <tr>\n",
       "      <th>563</th>\n",
       "      <td>37</td>\n",
       "    </tr>\n",
       "    <tr>\n",
       "      <th>112</th>\n",
       "      <td>31</td>\n",
       "    </tr>\n",
       "    <tr>\n",
       "      <th>152</th>\n",
       "      <td>43</td>\n",
       "    </tr>\n",
       "    <tr>\n",
       "      <th>471</th>\n",
       "      <td>46</td>\n",
       "    </tr>\n",
       "    <tr>\n",
       "      <th>117</th>\n",
       "      <td>33</td>\n",
       "    </tr>\n",
       "  </tbody>\n",
       "</table>\n",
       "<p>250 rows × 1 columns</p>\n",
       "</div>"
      ],
      "text/plain": [
       "     Age\n",
       "978   60\n",
       "41    59\n",
       "538   42\n",
       "240   42\n",
       "592   21\n",
       "..   ...\n",
       "563   37\n",
       "112   31\n",
       "152   43\n",
       "471   46\n",
       "117   33\n",
       "\n",
       "[250 rows x 1 columns]"
      ]
     },
     "execution_count": 76,
     "metadata": {},
     "output_type": "execute_result"
    }
   ],
   "source": [
    "x_test"
   ]
  },
  {
   "cell_type": "code",
   "execution_count": 77,
   "id": "9f67a41b",
   "metadata": {},
   "outputs": [
    {
     "data": {
      "text/plain": [
       "array([1, 1, 0, 0, 0, 0, 1, 0, 0, 0, 1, 0, 0, 1, 1, 0, 1, 0, 0, 1, 1, 0,\n",
       "       1, 0, 0, 0, 0, 0, 0, 0, 1, 0, 0, 0, 1, 0, 0, 0, 0, 1, 1, 1, 1, 0,\n",
       "       1, 1, 0, 1, 1, 0, 1, 0, 0, 1, 1, 1, 1, 0, 0, 1, 1, 1, 1, 1, 1, 0,\n",
       "       1, 1, 0, 0, 0, 1, 0, 1, 1, 0, 0, 0, 0, 0, 0, 1, 1, 1, 1, 1, 1, 1,\n",
       "       0, 1, 0, 1, 0, 1, 1, 1, 0, 0, 1, 0, 0, 1, 0, 0, 1, 1, 0, 0, 1, 1,\n",
       "       0, 1, 0, 0, 0, 0, 0, 1, 0, 1, 1, 0, 1, 1, 1, 0, 0, 0, 1, 1, 1, 1,\n",
       "       1, 0, 0, 0, 1, 0, 1, 1, 1, 0, 1, 1, 0, 1, 0, 1, 0, 0, 0, 1, 1, 1,\n",
       "       1, 1, 0, 0, 0, 0, 1, 0, 1, 1, 0, 0, 0, 1, 0, 1, 0, 1, 1, 0, 1, 0,\n",
       "       0, 0, 0, 0, 1, 0, 0, 0, 0, 1, 0, 1, 1, 1, 0, 1, 0, 0, 1, 0, 0, 1,\n",
       "       0, 0, 0, 0, 0, 1, 0, 0, 0, 0, 1, 0, 0, 0, 0, 0, 0, 0, 1, 0, 1, 0,\n",
       "       0, 0, 0, 0, 0, 1, 0, 0, 1, 0, 0, 0, 0, 1, 0, 1, 0, 0, 1, 1, 0, 1,\n",
       "       0, 1, 0, 0, 0, 0, 1, 0])"
      ]
     },
     "execution_count": 77,
     "metadata": {},
     "output_type": "execute_result"
    }
   ],
   "source": [
    "#the prediction will comes in array in 0 and 1 formate means yes and no \n",
    "model.predict(x_test)"
   ]
  },
  {
   "cell_type": "code",
   "execution_count": 78,
   "id": "78da2b21",
   "metadata": {},
   "outputs": [
    {
     "name": "stderr",
     "output_type": "stream",
     "text": [
      "/home/muhammadsardardaudkhan/.local/lib/python3.8/site-packages/sklearn/base.py:450: UserWarning: X does not have valid feature names, but LogisticRegression was fitted with feature names\n",
      "  warnings.warn(\n"
     ]
    },
    {
     "data": {
      "text/plain": [
       "array([1])"
      ]
     },
     "execution_count": 78,
     "metadata": {},
     "output_type": "execute_result"
    }
   ],
   "source": [
    "#here we can predict random age and see weather they will purchase or not\n",
    "model.predict([[44]])"
   ]
  },
  {
   "cell_type": "code",
   "execution_count": 79,
   "id": "d93aef44",
   "metadata": {},
   "outputs": [
    {
     "data": {
      "text/plain": [
       "array([[0.03966223, 0.96033777],\n",
       "       [0.04764867, 0.95235133],\n",
       "       [0.56601931, 0.43398069],\n",
       "       [0.56601931, 0.43398069],\n",
       "       [0.98652777, 0.01347223],\n",
       "       [0.56601931, 0.43398069],\n",
       "       [0.16078012, 0.83921988],\n",
       "       [0.8331714 , 0.1668286 ],\n",
       "       [0.56601931, 0.43398069],\n",
       "       [0.95862103, 0.04137897],\n",
       "       [0.03966223, 0.96033777],\n",
       "       [0.77288254, 0.22711746],\n",
       "       [0.96559456, 0.03440544],\n",
       "       [0.16078012, 0.83921988],\n",
       "       [0.33327639, 0.66672361],\n",
       "       [0.99078051, 0.00921949],\n",
       "       [0.47053805, 0.52946195],\n",
       "       [0.85815852, 0.14184148],\n",
       "       [0.80478381, 0.19521619],\n",
       "       [0.2194589 , 0.7805411 ],\n",
       "       [0.33327639, 0.66672361],\n",
       "       [0.99078051, 0.00921949],\n",
       "       [0.06840408, 0.93159592],\n",
       "       [0.65683936, 0.34316064],\n",
       "       [0.61240539, 0.38759461],\n",
       "       [0.98035223, 0.01964777],\n",
       "       [0.96559456, 0.03440544],\n",
       "       [0.69868571, 0.30131429],\n",
       "       [0.65683936, 0.34316064],\n",
       "       [0.8987754 , 0.1012246 ],\n",
       "       [0.4231658 , 0.5768342 ],\n",
       "       [0.65683936, 0.34316064],\n",
       "       [0.65683936, 0.34316064],\n",
       "       [0.80478381, 0.19521619],\n",
       "       [0.4231658 , 0.5768342 ],\n",
       "       [0.80478381, 0.19521619],\n",
       "       [0.73746872, 0.26253128],\n",
       "       [0.73746872, 0.26253128],\n",
       "       [0.73746872, 0.26253128],\n",
       "       [0.2194589 , 0.7805411 ],\n",
       "       [0.04764867, 0.95235133],\n",
       "       [0.03966223, 0.96033777],\n",
       "       [0.09727693, 0.90272307],\n",
       "       [0.94042581, 0.05957419],\n",
       "       [0.4231658 , 0.5768342 ],\n",
       "       [0.05714757, 0.94285243],\n",
       "       [0.98372562, 0.01627438],\n",
       "       [0.47053805, 0.52946195],\n",
       "       [0.37716541, 0.62283459],\n",
       "       [0.94042581, 0.05957419],\n",
       "       [0.13655044, 0.86344956],\n",
       "       [0.65683936, 0.34316064],\n",
       "       [0.95862103, 0.04137897],\n",
       "       [0.06840408, 0.93159592],\n",
       "       [0.37716541, 0.62283459],\n",
       "       [0.25407111, 0.74592889],\n",
       "       [0.29209935, 0.70790065],\n",
       "       [0.97142788, 0.02857212],\n",
       "       [0.73746872, 0.26253128],\n",
       "       [0.13655044, 0.86344956],\n",
       "       [0.37716541, 0.62283459],\n",
       "       [0.09727693, 0.90272307],\n",
       "       [0.25407111, 0.74592889],\n",
       "       [0.08168573, 0.91831427],\n",
       "       [0.04764867, 0.95235133],\n",
       "       [0.94042581, 0.05957419],\n",
       "       [0.13655044, 0.86344956],\n",
       "       [0.2194589 , 0.7805411 ],\n",
       "       [0.9149397 , 0.0850603 ],\n",
       "       [0.9149397 , 0.0850603 ],\n",
       "       [0.73746872, 0.26253128],\n",
       "       [0.4231658 , 0.5768342 ],\n",
       "       [0.61240539, 0.38759461],\n",
       "       [0.29209935, 0.70790065],\n",
       "       [0.03296807, 0.96703193],\n",
       "       [0.69868571, 0.30131429],\n",
       "       [0.69868571, 0.30131429],\n",
       "       [0.92872745, 0.07127255],\n",
       "       [0.61240539, 0.38759461],\n",
       "       [0.80478381, 0.19521619],\n",
       "       [0.65683936, 0.34316064],\n",
       "       [0.18837118, 0.81162882],\n",
       "       [0.08168573, 0.91831427],\n",
       "       [0.04764867, 0.95235133],\n",
       "       [0.4231658 , 0.5768342 ],\n",
       "       [0.25407111, 0.74592889],\n",
       "       [0.11546979, 0.88453021],\n",
       "       [0.16078012, 0.83921988],\n",
       "       [0.56601931, 0.43398069],\n",
       "       [0.05714757, 0.94285243],\n",
       "       [0.65683936, 0.34316064],\n",
       "       [0.03966223, 0.96033777],\n",
       "       [0.9149397 , 0.0850603 ],\n",
       "       [0.04764867, 0.95235133],\n",
       "       [0.06840408, 0.93159592],\n",
       "       [0.03966223, 0.96033777],\n",
       "       [0.77288254, 0.22711746],\n",
       "       [0.8987754 , 0.1012246 ],\n",
       "       [0.04764867, 0.95235133],\n",
       "       [0.56601931, 0.43398069],\n",
       "       [0.77288254, 0.22711746],\n",
       "       [0.25407111, 0.74592889],\n",
       "       [0.77288254, 0.22711746],\n",
       "       [0.9149397 , 0.0850603 ],\n",
       "       [0.13655044, 0.86344956],\n",
       "       [0.2194589 , 0.7805411 ],\n",
       "       [0.61240539, 0.38759461],\n",
       "       [0.65683936, 0.34316064],\n",
       "       [0.05714757, 0.94285243],\n",
       "       [0.25407111, 0.74592889],\n",
       "       [0.97629646, 0.02370354],\n",
       "       [0.09727693, 0.90272307],\n",
       "       [0.92872745, 0.07127255],\n",
       "       [0.69868571, 0.30131429],\n",
       "       [0.61240539, 0.38759461],\n",
       "       [0.80478381, 0.19521619],\n",
       "       [0.95862103, 0.04137897],\n",
       "       [0.37716541, 0.62283459],\n",
       "       [0.56601931, 0.43398069],\n",
       "       [0.37716541, 0.62283459],\n",
       "       [0.4231658 , 0.5768342 ],\n",
       "       [0.80478381, 0.19521619],\n",
       "       [0.05714757, 0.94285243],\n",
       "       [0.18837118, 0.81162882],\n",
       "       [0.18837118, 0.81162882],\n",
       "       [0.85815852, 0.14184148],\n",
       "       [0.8331714 , 0.1668286 ],\n",
       "       [0.87994243, 0.12005757],\n",
       "       [0.4231658 , 0.5768342 ],\n",
       "       [0.18837118, 0.81162882],\n",
       "       [0.25407111, 0.74592889],\n",
       "       [0.18837118, 0.81162882],\n",
       "       [0.33327639, 0.66672361],\n",
       "       [0.77288254, 0.22711746],\n",
       "       [0.8331714 , 0.1668286 ],\n",
       "       [0.51844708, 0.48155292],\n",
       "       [0.16078012, 0.83921988],\n",
       "       [0.94042581, 0.05957419],\n",
       "       [0.29209935, 0.70790065],\n",
       "       [0.05714757, 0.94285243],\n",
       "       [0.05714757, 0.94285243],\n",
       "       [0.96559456, 0.03440544],\n",
       "       [0.29209935, 0.70790065],\n",
       "       [0.2194589 , 0.7805411 ],\n",
       "       [0.80478381, 0.19521619],\n",
       "       [0.06840408, 0.93159592],\n",
       "       [0.8987754 , 0.1012246 ],\n",
       "       [0.04764867, 0.95235133],\n",
       "       [0.77288254, 0.22711746],\n",
       "       [0.73746872, 0.26253128],\n",
       "       [0.96559456, 0.03440544],\n",
       "       [0.18837118, 0.81162882],\n",
       "       [0.02737154, 0.97262846],\n",
       "       [0.03966223, 0.96033777],\n",
       "       [0.29209935, 0.70790065],\n",
       "       [0.37716541, 0.62283459],\n",
       "       [0.77288254, 0.22711746],\n",
       "       [0.51844708, 0.48155292],\n",
       "       [0.95862103, 0.04137897],\n",
       "       [0.9503068 , 0.0496932 ],\n",
       "       [0.04764867, 0.95235133],\n",
       "       [0.87994243, 0.12005757],\n",
       "       [0.25407111, 0.74592889],\n",
       "       [0.02270275, 0.97729725],\n",
       "       [0.98652777, 0.01347223],\n",
       "       [0.77288254, 0.22711746],\n",
       "       [0.65683936, 0.34316064],\n",
       "       [0.4231658 , 0.5768342 ],\n",
       "       [0.65683936, 0.34316064],\n",
       "       [0.03966223, 0.96033777],\n",
       "       [0.69868571, 0.30131429],\n",
       "       [0.09727693, 0.90272307],\n",
       "       [0.47053805, 0.52946195],\n",
       "       [0.51844708, 0.48155292],\n",
       "       [0.2194589 , 0.7805411 ],\n",
       "       [0.96559456, 0.03440544],\n",
       "       [0.94042581, 0.05957419],\n",
       "       [0.85815852, 0.14184148],\n",
       "       [0.80478381, 0.19521619],\n",
       "       [0.77288254, 0.22711746],\n",
       "       [0.37716541, 0.62283459],\n",
       "       [0.65683936, 0.34316064],\n",
       "       [0.65683936, 0.34316064],\n",
       "       [0.80478381, 0.19521619],\n",
       "       [0.9503068 , 0.0496932 ],\n",
       "       [0.18837118, 0.81162882],\n",
       "       [0.61240539, 0.38759461],\n",
       "       [0.05714757, 0.94285243],\n",
       "       [0.37716541, 0.62283459],\n",
       "       [0.47053805, 0.52946195],\n",
       "       [0.98035223, 0.01964777],\n",
       "       [0.13655044, 0.86344956],\n",
       "       [0.69868571, 0.30131429],\n",
       "       [0.69868571, 0.30131429],\n",
       "       [0.11546979, 0.88453021],\n",
       "       [0.56601931, 0.43398069],\n",
       "       [0.87994243, 0.12005757],\n",
       "       [0.29209935, 0.70790065],\n",
       "       [0.94042581, 0.05957419],\n",
       "       [0.77288254, 0.22711746],\n",
       "       [0.95862103, 0.04137897],\n",
       "       [0.65683936, 0.34316064],\n",
       "       [0.80478381, 0.19521619],\n",
       "       [0.37716541, 0.62283459],\n",
       "       [0.98035223, 0.01964777],\n",
       "       [0.95862103, 0.04137897],\n",
       "       [0.9149397 , 0.0850603 ],\n",
       "       [0.8331714 , 0.1668286 ],\n",
       "       [0.4231658 , 0.5768342 ],\n",
       "       [0.98885291, 0.01114709],\n",
       "       [0.65683936, 0.34316064],\n",
       "       [0.98372562, 0.01627438],\n",
       "       [0.61240539, 0.38759461],\n",
       "       [0.8331714 , 0.1668286 ],\n",
       "       [0.97629646, 0.02370354],\n",
       "       [0.65683936, 0.34316064],\n",
       "       [0.4231658 , 0.5768342 ],\n",
       "       [0.97142788, 0.02857212],\n",
       "       [0.25407111, 0.74592889],\n",
       "       [0.77288254, 0.22711746],\n",
       "       [0.51844708, 0.48155292],\n",
       "       [0.99237735, 0.00762265],\n",
       "       [0.9149397 , 0.0850603 ],\n",
       "       [0.61240539, 0.38759461],\n",
       "       [0.51844708, 0.48155292],\n",
       "       [0.29209935, 0.70790065],\n",
       "       [0.69868571, 0.30131429],\n",
       "       [0.9503068 , 0.0496932 ],\n",
       "       [0.37716541, 0.62283459],\n",
       "       [0.61240539, 0.38759461],\n",
       "       [0.94042581, 0.05957419],\n",
       "       [0.51844708, 0.48155292],\n",
       "       [0.94042581, 0.05957419],\n",
       "       [0.13655044, 0.86344956],\n",
       "       [0.87994243, 0.12005757],\n",
       "       [0.11546979, 0.88453021],\n",
       "       [0.77288254, 0.22711746],\n",
       "       [0.8987754 , 0.1012246 ],\n",
       "       [0.05714757, 0.94285243],\n",
       "       [0.11546979, 0.88453021],\n",
       "       [0.92872745, 0.07127255],\n",
       "       [0.03296807, 0.96703193],\n",
       "       [0.51844708, 0.48155292],\n",
       "       [0.25407111, 0.74592889],\n",
       "       [0.8331714 , 0.1668286 ],\n",
       "       [0.77288254, 0.22711746],\n",
       "       [0.9149397 , 0.0850603 ],\n",
       "       [0.51844708, 0.48155292],\n",
       "       [0.37716541, 0.62283459],\n",
       "       [0.87994243, 0.12005757]])"
      ]
     },
     "execution_count": 79,
     "metadata": {},
     "output_type": "execute_result"
    }
   ],
   "source": [
    "#lets see probability of overall dataset will the customer purchase or not\n",
    "model.predict_proba(x_test)"
   ]
  },
  {
   "cell_type": "code",
   "execution_count": 80,
   "id": "9671810e",
   "metadata": {},
   "outputs": [
    {
     "data": {
      "text/plain": [
       "0.804"
      ]
     },
     "execution_count": 80,
     "metadata": {},
     "output_type": "execute_result"
    }
   ],
   "source": [
    "#lets see score of our model how good is it \n",
    "model.score(x_test,y_test)"
   ]
  },
  {
   "cell_type": "code",
   "execution_count": 68,
   "id": "3d234700",
   "metadata": {},
   "outputs": [],
   "source": [
    "#it means our model is good for prediction \n",
    "#logistic regression helpful for only small dataset with few columns\n",
    "#if there is a dataset with lot of colums we will implement more powerful models"
   ]
  },
  {
   "cell_type": "code",
   "execution_count": null,
   "id": "4817ed3e",
   "metadata": {},
   "outputs": [],
   "source": []
  }
 ],
 "metadata": {
  "kernelspec": {
   "display_name": "Python 3 (ipykernel)",
   "language": "python",
   "name": "python3"
  },
  "language_info": {
   "codemirror_mode": {
    "name": "ipython",
    "version": 3
   },
   "file_extension": ".py",
   "mimetype": "text/x-python",
   "name": "python",
   "nbconvert_exporter": "python",
   "pygments_lexer": "ipython3",
   "version": "3.8.12"
  }
 },
 "nbformat": 4,
 "nbformat_minor": 5
}
